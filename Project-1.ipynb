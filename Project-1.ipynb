{
 "cells": [
  {
   "cell_type": "markdown",
   "id": "3ea59428",
   "metadata": {},
   "source": [
    "#### No of Funding per Year"
   ]
  },
  {
   "cell_type": "code",
   "execution_count": 1,
   "id": "838d334e",
   "metadata": {},
   "outputs": [
    {
     "data": {
      "image/png": "[encoded data removed]",
      "text/plain": [
       "<Figure size 432x288 with 1 Axes>"
      ]
     },
     "metadata": {
      "needs_background": "light"
     },
     "output_type": "display_data"
    },
    {
     "name": "stdout",
     "output_type": "stream",
     "text": [
      "2015 936\n",
      "2016 993\n",
      "2017 443\n"
     ]
    }
   ],
   "source": [
    "import csv\n",
    "import numpy as np\n",
    "import pandas as pd\n",
    "import matplotlib.pyplot as plt\n",
    "file = pd.read_csv('C:\\\\Users\\\\dell\\\\Downloads\\\\startup_funding.csv')\n",
    "file.Date.replace('12/05.2015','12/05/2015',inplace = True)\n",
    "file.AmountInUSD.fillna(0,inplace = True)\n",
    "years = []\n",
    "for i in file.Date:\n",
    "    years.append(i[-4:])\n",
    "np_fund = np.array(file.AmountInUSD,dtype = str)\n",
    "fund = []\n",
    "for i in np_fund:\n",
    "    j = i.replace(',','')\n",
    "    fund.append(int(j))\n",
    "years.reverse()\n",
    "fund.reverse()\n",
    "d = {}\n",
    "for i in range(len(years)):\n",
    "    d[years[i]] = d.get(years[i],0)+1\n",
    "y = []\n",
    "f = []\n",
    "for i in d:\n",
    "    y.append(i)\n",
    "    f.append(d[i])\n",
    "plt.plot(y,f)\n",
    "plt.xlabel('Years')\n",
    "plt.ylabel('Funding per year')\n",
    "plt.title('Funding vs Years')\n",
    "plt.show()\n",
    "for i in d:\n",
    "    print(i,d[i])\n"
   ]
  },
  {
   "cell_type": "markdown",
   "id": "b379cab6",
   "metadata": {},
   "source": [
    "### Top cities for investing"
   ]
  },
  {
   "cell_type": "code",
   "execution_count": null,
   "id": "e7a29594",
   "metadata": {},
   "outputs": [],
   "source": [
    "file.CityLocation.replace('Delhi','New Delhi',inplace = True)\n",
    "file.CityLocation.replace('bangalore','Bangalore',inplace = True)\n",
    "file.CityLocation.fillna('Unknown',inplace = True)\n",
    "d= {}\n",
    "np_loc = np.array(file.CityLocation,dtype = str)\n",
    "for i in np_loc:\n",
    "    if len(i.split('/')) == 2:\n",
    "        j = i.split('/')\n",
    "        for k in range(len(j)):\n",
    "            j[k] = j[k].strip()\n",
    "        d[j[0]] = d.get(j[0],0)+1\n",
    "        #d[j[1]] = d.get(j[1],0)+1\n",
    "        \n",
    "    else:\n",
    "        d[i] = d.get(i,0)+1\n",
    "del d['Unknown']\n",
    "num = d.values()\n",
    "num = list(num)\n",
    "num.sort()\n",
    "num.reverse()\n",
    "i = 0\n",
    "pie = []\n",
    "while(i<10):\n",
    "    a = num[i]\n",
    "    for j in d:\n",
    "        if d[j] == a:\n",
    "            print(j,a)\n",
    "            pie.append((j,a))\n",
    "            i = i+1\n",
    "city = []\n",
    "n = []\n",
    "for i in pie:\n",
    "    city.append(i[0])\n",
    "    n.append(i[1])\n",
    "plt.pie(n,labels = city,autopct = '%.02f')\n",
    "plt.axis('equal')\n",
    "plt.show()"
   ]
  },
  {
   "cell_type": "markdown",
   "id": "96c6d864",
   "metadata": {},
   "source": [
    "### CIty vs amount of funds (top 10)"
   ]
  },
  {
   "cell_type": "code",
   "execution_count": null,
   "id": "6c461857",
   "metadata": {},
   "outputs": [],
   "source": [
    "file.CityLocation.replace('Delhi','New Delhi',inplace = True)\n",
    "file.CityLocation.replace('bangalore','Bangalore',inplace = True)\n",
    "file.CityLocation.fillna('Unknown',inplace = True)\n",
    "file.AmountInUSD.fillna(0,inplace = True)\n",
    "np_fund = np.array(file.AmountInUSD,dtype = str)\n",
    "fund = []\n",
    "for i in np_fund:\n",
    "    j = i.replace(',','')\n",
    "    fund.append(int(j))\n",
    "d= {}\n",
    "np_loc = np.array(file.CityLocation,dtype = str)\n",
    "m = 0\n",
    "for i in np_loc:\n",
    "    if len(i.split('/')) == 2:\n",
    "        j = i.split('/')\n",
    "        for k in range(len(j)):\n",
    "            j[k] = j[k].strip()\n",
    "        d[j[0]] = d.get(j[0],0)+fund[m]\n",
    "        #d[j[1]] = d.get(j[1],0)+1   \n",
    "        m = m+1\n",
    "    else:\n",
    "        d[i] = d.get(i,0)+fund[m]\n",
    "        m = m+1\n",
    "del d['Unknown']\n",
    "funds = list(d.values())\n",
    "funds.sort()\n",
    "funds.reverse()\n",
    "c= []\n",
    "f = []\n",
    "for i in funds[0:10]:\n",
    "    f.append(i)\n",
    "    for j in d:\n",
    "        if d[j] == i:\n",
    "            c.append(j)\n",
    "s = sum(f)\n",
    "for i in range(len(c)):\n",
    "    print(c[i],end = ' ')\n",
    "    a = f[i]*100/s\n",
    "    print('%.02f'%a)\n",
    "    \n",
    "\n",
    "\n"
   ]
  },
  {
   "cell_type": "markdown",
   "id": "8e74d1f7",
   "metadata": {},
   "source": [
    "### Investment type vs amount of funds"
   ]
  },
  {
   "cell_type": "code",
   "execution_count": null,
   "id": "84e80e85",
   "metadata": {},
   "outputs": [],
   "source": [
    "#file.InvestmentType.unique()\n",
    "file.InvestmentType.replace('SeedFunding','Seed Funding',inplace = True)\n",
    "file.InvestmentType.replace('Crowd funding','Crowd Funding',inplace = True)\n",
    "file.InvestmentType.replace('PrivateEquity','Private Equity',inplace = True)\n",
    "file.InvestmentType.fillna('Unknown',inplace = True)\n",
    "#file.InvestmentType.unique()\n",
    "np_type = np.array(file.InvestmentType,dtype = str)\n",
    "file.AmountInUSD.fillna(0,inplace = True)\n",
    "np_fund = np.array(file.AmountInUSD,dtype = str)\n",
    "fund = []\n",
    "for i in np_fund:\n",
    "    j = i.replace(',','')\n",
    "    fund.append(int(j))\n",
    "d = {}\n",
    "j = 0\n",
    "for i in np_type:\n",
    "    d[i] = d.get(i,0)+fund[j]\n",
    "    j = j+1\n",
    "del d['Unknown']\n",
    "t =[]\n",
    "f = list(d.values())\n",
    "f.sort()\n",
    "f.reverse()\n",
    "for i in range(len(f)):\n",
    "    for j in d:\n",
    "        if f[i] == d[j]:\n",
    "            t.append(j)\n",
    "s = sum(f)\n",
    "for i in range(len(t)):\n",
    "    print(t[i],end = ' ')\n",
    "    a = f[i]*100/s\n",
    "    print('%.02f'%a)\n",
    "plt.pie(f,labels = t,autopct = '%.02f',explode = [0.1,0.3,0.6,0.9])\n",
    "#plt.axis('equal')\n",
    "plt.show()"
   ]
  },
  {
   "cell_type": "markdown",
   "id": "ebb2b59f",
   "metadata": {},
   "source": [
    "### Investment Field vs Funding amount"
   ]
  },
  {
   "cell_type": "code",
   "execution_count": 3,
   "id": "54de92e6",
   "metadata": {},
   "outputs": [
    {
     "name": "stdout",
     "output_type": "stream",
     "text": [
      "Ecommerce 40.53\n",
      "Consumer Internet 35.95\n",
      "Technology 10.45\n",
      "Online Marketplace 6.63\n",
      "E-Commerce & M-Commerce platform 6.44\n"
     ]
    },
    {
     "data": {
      "text/plain": [
       "0               TouchKin\n",
       "1                Ethinos\n",
       "2           Leverage Edu\n",
       "3                   Zepo\n",
       "4           Click2Clinic\n",
       "              ...       \n",
       "2367          Printvenue\n",
       "2368            Graphene\n",
       "2369      Mad Street Den\n",
       "2370           Simplotel\n",
       "2371    couponmachine.in\n",
       "Name: StartupName, Length: 2372, dtype: object"
      ]
     },
     "execution_count": 3,
     "metadata": {},
     "output_type": "execute_result"
    }
   ],
   "source": [
    "#file.IndustryVertical.unique()\n",
    "#file.IndustryVertical.replace('eCommerce','Ecommerce',inplace = True)\n",
    "#file.IndustryVertical.replace('ECommerce','Ecommerce',inplace = True)\n",
    "file.IndustryVertical.fillna('Unknown',inplace = True)\n",
    "for i in range(len(file.IndustryVertical)):\n",
    "    if('ecommerce' in file.loc[i,'IndustryVertical']):\n",
    "        file.loc[i,'IndustryVertical']=file.loc[i,'IndustryVertical'].replace('ecommerce','Ecommerce')\n",
    "    elif('eCommerce' in file.loc[i,'IndustryVertical']):\n",
    "         file.loc[i,'IndustryVertical']=file.loc[i,'IndustryVertical'].replace('eCommerce','Ecommerce')\n",
    "    elif('ECommerce' in file.loc[i,'IndustryVertical']):\n",
    "        file.loc[i,'IndustryVertical']= file.loc[i,'IndustryVertical'].replace('ECommerce','Ecommerce')\n",
    "#print(file.IndustryVertical.unique())\n",
    "file.AmountInUSD.fillna(0,inplace = True)\n",
    "np_fund = np.array(file.AmountInUSD,dtype = str)\n",
    "fund = []\n",
    "for i in np_fund:\n",
    "    j = i.replace(',','')\n",
    "    fund.append(int(j))\n",
    "d = {}\n",
    "j = 0\n",
    "for i in file.IndustryVertical:\n",
    "    d[i] = d.get(i,0)+fund[j]\n",
    "    j = j+1\n",
    "del d['Unknown']\n",
    "I = []\n",
    "f =[]\n",
    "funds =list(d.values())\n",
    "funds.sort()\n",
    "funds.reverse()\n",
    "for i in range(5):\n",
    "    for j in d:\n",
    "        if d[j] == funds[i]:\n",
    "            f.append(funds[i])\n",
    "            I.append(j)\n",
    "s = sum(f)\n",
    "for i in range(5):\n",
    "    print(I[i],end = ' ')\n",
    "    a = f[i]*100/s\n",
    "    print(round(a,2))\n",
    "           \n",
    "\n",
    "    \n",
    "\n"
   ]
  },
  {
   "cell_type": "markdown",
   "id": "4e109cc4",
   "metadata": {},
   "source": [
    "### Startup Vs Funding Amount"
   ]
  },
  {
   "cell_type": "code",
   "execution_count": null,
   "id": "6b1e8d56",
   "metadata": {},
   "outputs": [],
   "source": [
    "for i in range(len(file.StartupName)):\n",
    "    if 'Ola' in  file.loc[i,'StartupName']:\n",
    "        file.loc[i,'StartupName'] = 'Ola'\n",
    "    elif 'Paytm' in file.loc[i,'StartupName']:\n",
    "        file.loc[i,'StartupName'] = 'Paytm'\n",
    "    elif 'Oyo' in file.loc[i,'StartupName']:\n",
    "        file.loc[i,'StartupName'] = 'Oyo'\n",
    "    elif 'OYO' in file.loc[i,'StartupName']:\n",
    "        file.loc[i,'StartupName'] = 'Oyo'\n",
    "    elif 'Flipkart' in file.loc[i,'StartupName']:\n",
    "        file.loc[i,'StartupName'] = 'Flipkart'\n",
    "file.AmountInUSD.fillna(0,inplace = True)\n",
    "np_fund = np.array(file.AmountInUSD,dtype = str)\n",
    "fund = []\n",
    "for i in np_fund:\n",
    "    j = i.replace(',','')\n",
    "    fund.append(int(j))\n",
    "d= {}\n",
    "j = 0\n",
    "for i in file.StartupName:\n",
    "    d[i] = d.get(i,0)+fund[j]\n",
    "    j = j+1\n",
    "f= list(d.values())\n",
    "a = []\n",
    "f.sort()\n",
    "f.reverse()\n",
    "for i in range(0,5):\n",
    "    for j in d:\n",
    "        if f[i] == d[j]:\n",
    "            print(j)\n"
   ]
  },
  {
   "cell_type": "markdown",
   "id": "0d17ff78",
   "metadata": {},
   "source": [
    "### Startup vs Funding times"
   ]
  },
  {
   "cell_type": "code",
   "execution_count": 33,
   "id": "cc1fa62d",
   "metadata": {},
   "outputs": [
    {
     "data": {
      "text/plain": [
       "Ola          9\n",
       "Swiggy       7\n",
       "Oyo          7\n",
       "Paytm        6\n",
       "UrbanClap    6\n",
       "            ..\n",
       "mSwipe       1\n",
       "ProcMart     1\n",
       "Silvan       1\n",
       "SERV’D       1\n",
       "CaRPM        1\n",
       "Name: StartupName, Length: 1992, dtype: int64"
      ]
     },
     "execution_count": 33,
     "metadata": {},
     "output_type": "execute_result"
    }
   ],
   "source": [
    "for i in range(len(file.StartupName)):\n",
    "    if 'Ola' in  file.loc[i,'StartupName']:\n",
    "        file.loc[i,'StartupName'] = 'Ola'\n",
    "    elif 'Paytm' in file.loc[i,'StartupName']:\n",
    "        file.loc[i,'StartupName'] = 'Paytm'\n",
    "    elif 'Oyo' in file.loc[i,'StartupName']:\n",
    "        file.loc[i,'StartupName'] = 'Oyo'\n",
    "    elif 'OYO' in file.loc[i,'StartupName']:\n",
    "        file.loc[i,'StartupName'] = 'Oyo'\n",
    "    elif 'Flipkart' in file.loc[i,'StartupName']:\n",
    "        file.loc[i,'StartupName'] = 'Flipkart'\n",
    "a = file.StartupName.value_counts()\n",
    "a"
   ]
  },
  {
   "cell_type": "code",
   "execution_count": null,
   "id": "bdb6c426",
   "metadata": {},
   "outputs": [],
   "source": [
    "d = {}\n",
    "for i in file.StartupName:\n",
    "    d[i] = d.get(i,0)+1\n",
    "f = list(d.values())\n",
    "f.sort()\n",
    "f.reverse()\n",
    "i = 0\n",
    "while(i<5):\n",
    "    for j in d:\n",
    "        if d[j] == f[i]:\n",
    "            print(j,f[i])\n",
    "            i = i+1\n",
    "l = sorted(d.values())\n",
    "l.reverse()\n",
    "print(l)"
   ]
  },
  {
   "cell_type": "code",
   "execution_count": null,
   "id": "2caf714c",
   "metadata": {},
   "outputs": [],
   "source": [
    "import matplotlib.pyplot as plt\n",
    "import numpy as np\n",
    "import pandas as pd\n",
    "start = pd.read_csv('startup_funding.csv',encoding = 'utf-8')\n",
    "df = start.copy()\n",
    "df['StartupName'].replace('Flipkart.com','Flipkart',inplace=True)\n",
    "df['StartupName'].replace('Ola Cabs','Ola',inplace=True)\n",
    "df['StartupName'].replace('Olacabs','Ola',inplace=True)\n",
    "df['StartupName'].replace('Oyo Rooms','Oyo',inplace=True)\n",
    "df['StartupName'].replace('OyoRooms','Oyo',inplace=True)\n",
    "df['StartupName'].replace('Oyorooms','Oyo',inplace=True)\n",
    "df['StartupName'].replace('OYO Rooms','Oyo',inplace=True)\n",
    "df['StartupName'].replace('Paytm Marketplace','Paytm',inplace=True)\n",
    "df[\"AmountInUSD\"] = df[\"AmountInUSD\"].apply(lambda x:float(str(x).replace(\",\",\"\")))\n",
    "startupnames = df['StartupName'].value_counts()[0:5]\n",
    "s = startupnames.index\n",
    "n = startupnames.values\n",
    "for i in range(len(s)):\n",
    "    print(s[i],n[i])"
   ]
  },
  {
   "cell_type": "markdown",
   "id": "2428903f",
   "metadata": {},
   "source": [
    "### No of Investments by each Investor"
   ]
  },
  {
   "cell_type": "code",
   "execution_count": 11,
   "id": "22f9a96d",
   "metadata": {},
   "outputs": [
    {
     "name": "stdout",
     "output_type": "stream",
     "text": [
      "Sequoia Capital 64\n"
     ]
    }
   ],
   "source": [
    "file.InvestorsName.fillna('Unknown',inplace = True)\n",
    "d = {}\n",
    "for i in file.InvestorsName:\n",
    "    if len(i.split(','))>1:\n",
    "        j = i.split(',')\n",
    "        for k in j:\n",
    "            d[k.strip()] = d.get(k.strip(),0)+1\n",
    "    else:\n",
    "        d[i] = d.get(i,0)+1\n",
    "a = max(d.values())\n",
    "for i in d:\n",
    "    if d[i] == a:\n",
    "        print(i,a)"
   ]
  }
 ],
 "metadata": {
  "kernelspec": {
   "display_name": "Python 3",
   "language": "python",
   "name": "python3"
  },
  "language_info": {
   "codemirror_mode": {
    "name": "ipython",
    "version": 3
   },
   "file_extension": ".py",
   "mimetype": "text/x-python",
   "name": "python",
   "nbconvert_exporter": "python",
   "pygments_lexer": "ipython3",
   "version": "3.8.8"
  }
 },
 "nbformat": 4,
 "nbformat_minor": 5
}
